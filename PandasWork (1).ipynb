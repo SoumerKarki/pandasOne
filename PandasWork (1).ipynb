{
 "cells": [
  {
   "cell_type": "code",
   "execution_count": 1,
   "metadata": {},
   "outputs": [],
   "source": [
    "import pandas as pd\n",
    "import numpy as np"
   ]
  },
  {
   "cell_type": "markdown",
   "metadata": {},
   "source": [
    "Now, let us first demonstrate series in pandas!"
   ]
  },
  {
   "cell_type": "code",
   "execution_count": 8,
   "metadata": {},
   "outputs": [
    {
     "name": "stdout",
     "output_type": "stream",
     "text": [
      "Series([], dtype: float64)\n"
     ]
    }
   ],
   "source": [
    "s=pd.Series()\n",
    "print(s)"
   ]
  },
  {
   "cell_type": "code",
   "execution_count": 12,
   "metadata": {},
   "outputs": [
    {
     "name": "stdout",
     "output_type": "stream",
     "text": [
      "0    1.0\n",
      "1    2.0\n",
      "2    3.4\n",
      "3    5.0\n",
      "dtype: float64\n"
     ]
    }
   ],
   "source": [
    "s1=pd.Series([1,2,3.4,5])\n",
    "print(s1)"
   ]
  },
  {
   "cell_type": "code",
   "execution_count": 13,
   "metadata": {},
   "outputs": [
    {
     "name": "stdout",
     "output_type": "stream",
     "text": [
      "0    1\n",
      "1    2\n",
      "2    3\n",
      "3    4\n",
      "dtype: int64\n"
     ]
    }
   ],
   "source": [
    "s2=pd.Series((1,2,3,4))\n",
    "print(s2)"
   ]
  },
  {
   "cell_type": "code",
   "execution_count": 14,
   "metadata": {},
   "outputs": [
    {
     "name": "stdout",
     "output_type": "stream",
     "text": [
      "0    1\n",
      "1    2\n",
      "2    3\n",
      "3    4\n",
      "dtype: int64\n"
     ]
    }
   ],
   "source": [
    "data=np.array([1,2,3,4])\n",
    "s3=pd.Series(data)\n",
    "print(s3)"
   ]
  },
  {
   "cell_type": "code",
   "execution_count": 15,
   "metadata": {},
   "outputs": [
    {
     "name": "stdout",
     "output_type": "stream",
     "text": [
      "0        1\n",
      "1        2\n",
      "2        3\n",
      "3        6\n",
      "4    hello\n",
      "dtype: object\n"
     ]
    }
   ],
   "source": [
    "data1=np.array([1,2,3,6,'hello'])\n",
    "s4=pd.Series(data1)\n",
    "print(s4)"
   ]
  },
  {
   "cell_type": "code",
   "execution_count": 17,
   "metadata": {},
   "outputs": [
    {
     "name": "stdout",
     "output_type": "stream",
     "text": [
      "100    5\n",
      "200    6\n",
      "300    7\n",
      "dtype: int64\n"
     ]
    }
   ],
   "source": [
    "s5=pd.Series([5,6,7],index=[100,200,300])\n",
    "print(s5)"
   ]
  },
  {
   "cell_type": "code",
   "execution_count": 20,
   "metadata": {},
   "outputs": [
    {
     "name": "stdout",
     "output_type": "stream",
     "text": [
      "a    1\n",
      "b    2\n",
      "c    3\n",
      "dtype: int64\n"
     ]
    }
   ],
   "source": [
    "d=pd.Series({'a':1,'b':2,'c':3})\n",
    "print(d)"
   ]
  },
  {
   "cell_type": "code",
   "execution_count": 22,
   "metadata": {},
   "outputs": [
    {
     "name": "stdout",
     "output_type": "stream",
     "text": [
      "b      2\n",
      "d     yo\n",
      "e    NaN\n",
      "a      1\n",
      "c      3\n",
      "dtype: object\n"
     ]
    }
   ],
   "source": [
    "d1=pd.Series({'a':1,'b':2,'c':3,'d':'yo'},index=['b','d','e','a','c'])\n",
    "print(d1)"
   ]
  },
  {
   "cell_type": "markdown",
   "metadata": {},
   "source": [
    "Now, let us demonstrate DataFrames in Pandas!"
   ]
  },
  {
   "cell_type": "code",
   "execution_count": 2,
   "metadata": {},
   "outputs": [
    {
     "name": "stdout",
     "output_type": "stream",
     "text": [
      "Empty DataFrame\n",
      "Columns: []\n",
      "Index: []\n"
     ]
    }
   ],
   "source": [
    "# let us create and empty dataframe\n",
    "df=pd.DataFrame()\n",
    "print(df)"
   ]
  },
  {
   "cell_type": "code",
   "execution_count": 3,
   "metadata": {},
   "outputs": [
    {
     "name": "stdout",
     "output_type": "stream",
     "text": [
      "   0\n",
      "0  1\n",
      "1  2\n",
      "2  3\n",
      "3  4\n",
      "4  5\n"
     ]
    }
   ],
   "source": [
    "# let us use a list to intialize the dataframe\n",
    "df1=pd.DataFrame([1,2,3,4,5])\n",
    "print(df1)"
   ]
  },
  {
   "cell_type": "code",
   "execution_count": 4,
   "metadata": {},
   "outputs": [
    {
     "name": "stdout",
     "output_type": "stream",
     "text": [
      "         0\n",
      "0        1\n",
      "1        2\n",
      "2        3\n",
      "3        4\n",
      "4    hello\n",
      "5  monster\n"
     ]
    }
   ],
   "source": [
    "df1=pd.DataFrame([1,2,3,4,'hello','monster'])\n",
    "print(df1)"
   ]
  },
  {
   "cell_type": "code",
   "execution_count": 5,
   "metadata": {},
   "outputs": [
    {
     "name": "stdout",
     "output_type": "stream",
     "text": [
      "        0   1\n",
      "0    Alex  10\n",
      "1   Winry  11\n",
      "2     Bob  17\n",
      "3  Cassie  13\n"
     ]
    }
   ],
   "source": [
    "data=[['Alex',10],['Winry',11],['Bob',17],['Cassie',13]]\n",
    "df2=pd.DataFrame(data)\n",
    "print(df2)"
   ]
  },
  {
   "cell_type": "code",
   "execution_count": 6,
   "metadata": {},
   "outputs": [
    {
     "name": "stdout",
     "output_type": "stream",
     "text": [
      "     Name   Age\n",
      "0    Alex  10.0\n",
      "1   Winry  11.0\n",
      "2     Bob  17.0\n",
      "3  Cassie  13.0\n"
     ]
    }
   ],
   "source": [
    "df2=pd.DataFrame(data,columns=['Name','Age'],dtype='float')\n",
    "print(df2)"
   ]
  },
  {
   "cell_type": "code",
   "execution_count": 9,
   "metadata": {},
   "outputs": [
    {
     "name": "stdout",
     "output_type": "stream",
     "text": [
      "           Name  Age\n",
      "pehla   Jhumroo   10\n",
      "doosra    Laila   15\n",
      "teesra  Bhushan   26\n"
     ]
    }
   ],
   "source": [
    "# let us use a dict to initialize a dataframe\n",
    "data={'Name':['Jhumroo','Laila','Bhushan'],'Age':[10,15,26]}\n",
    "df3=pd.DataFrame(data,index=['pehla','doosra','teesra'])\n",
    "print(df3)"
   ]
  },
  {
   "cell_type": "code",
   "execution_count": 14,
   "metadata": {},
   "outputs": [
    {
     "name": "stdout",
     "output_type": "stream",
     "text": [
      "         a     b     c     d\n",
      "ek     1.0  23.0   NaN   NaN\n",
      "do    24.0  17.0  81.0   NaN\n",
      "teen   NaN   NaN   NaN  69.0\n"
     ]
    }
   ],
   "source": [
    "# Using list of dictionaries to create dataframe\n",
    "data=[{'a':1,'b':23},{'a':24,'b':17,'c':81},{'d':69}]\n",
    "df4=pd.DataFrame(data,index=['ek','do','teen'])\n",
    "print(df4)"
   ]
  },
  {
   "cell_type": "code",
   "execution_count": 17,
   "metadata": {},
   "outputs": [
    {
     "name": "stdout",
     "output_type": "stream",
     "text": [
      "         d     b     a\n",
      "ek     NaN  23.0   1.0\n",
      "do     NaN  17.0  24.0\n",
      "teen  69.0   NaN   NaN\n"
     ]
    }
   ],
   "source": [
    "#Using list of dictionaries and specifying columns!\n",
    "data=[{'a':1,'b':23},{'a':24,'b':17,'c':81},{'d':69}]\n",
    "df5=pd.DataFrame(data,index=['ek','do','teen'],columns=['d','b','a'])\n",
    "print(df5)"
   ]
  },
  {
   "cell_type": "code",
   "execution_count": 22,
   "metadata": {},
   "outputs": [
    {
     "name": "stdout",
     "output_type": "stream",
     "text": [
      "   one  two\n",
      "a  1.0    1\n",
      "b  2.0    2\n",
      "c  3.0    3\n",
      "4  NaN    4\n"
     ]
    }
   ],
   "source": [
    "#Using dict of series to create a dataframe\n",
    "data={'one':pd.Series([1,2,3],index=['a','b','c']),'two':pd.Series([1,2,3,4],index=['a','b','c',4])}\n",
    "df6=pd.DataFrame(data)\n",
    "print(df6)"
   ]
  },
  {
   "cell_type": "code",
   "execution_count": 25,
   "metadata": {},
   "outputs": [
    {
     "name": "stdout",
     "output_type": "stream",
     "text": [
      "      one  two\n",
      "ek    NaN  NaN\n",
      "do    NaN  NaN\n",
      "teen  NaN  NaN\n",
      "char  NaN  NaN\n"
     ]
    }
   ],
   "source": [
    "#But what if we specify index in the DataFrame method?\n",
    "df6=pd.DataFrame(data,index=['ek','do','teen','char'])\n",
    "print(df6)"
   ]
  },
  {
   "cell_type": "code",
   "execution_count": 26,
   "metadata": {},
   "outputs": [
    {
     "name": "stdout",
     "output_type": "stream",
     "text": [
      "   one  two\n",
      "a  1.0    1\n",
      "b  2.0    2\n",
      "c  3.0    3\n",
      "4  NaN    4\n"
     ]
    }
   ],
   "source": [
    "#So the indexes in the DataFrame method and Series method must coincide\n",
    "df6=pd.DataFrame(data,index=['a','b','c',4])\n",
    "print(df6)"
   ]
  },
  {
   "cell_type": "markdown",
   "metadata": {},
   "source": [
    "Column Selection, Deletion and Addition"
   ]
  },
  {
   "cell_type": "code",
   "execution_count": 27,
   "metadata": {},
   "outputs": [
    {
     "name": "stdout",
     "output_type": "stream",
     "text": [
      "a    1.0\n",
      "b    2.0\n",
      "c    3.0\n",
      "4    NaN\n",
      "Name: one, dtype: float64\n"
     ]
    }
   ],
   "source": [
    "#Column selection \n",
    "print(df6['one'])"
   ]
  },
  {
   "cell_type": "code",
   "execution_count": 32,
   "metadata": {},
   "outputs": [
    {
     "name": "stdout",
     "output_type": "stream",
     "text": [
      "   one  two  three\n",
      "a  1.0    1    5.0\n",
      "b  2.0    2    NaN\n",
      "c  3.0    3    6.0\n",
      "4  NaN    4    NaN\n"
     ]
    }
   ],
   "source": [
    "#Column addition\n",
    "df6['three']=pd.Series([5,6],index=['a','c'])\n",
    "print(df6)"
   ]
  },
  {
   "cell_type": "code",
   "execution_count": 34,
   "metadata": {},
   "outputs": [
    {
     "name": "stdout",
     "output_type": "stream",
     "text": [
      "   one  two  three  four\n",
      "a  1.0    1    5.0  -4.0\n",
      "b  2.0    2    NaN   NaN\n",
      "c  3.0    3    6.0  -3.0\n",
      "4  NaN    4    NaN   NaN\n"
     ]
    }
   ],
   "source": [
    "df6['four']=df6['one']-df6['three']\n",
    "print(df6)"
   ]
  },
  {
   "cell_type": "code",
   "execution_count": 35,
   "metadata": {},
   "outputs": [
    {
     "name": "stdout",
     "output_type": "stream",
     "text": [
      "   one  two  four\n",
      "a  1.0    1  -4.0\n",
      "b  2.0    2   NaN\n",
      "c  3.0    3  -3.0\n",
      "4  NaN    4   NaN\n"
     ]
    }
   ],
   "source": [
    "#Column deletion\n",
    "del df6['three']\n",
    "print(df6)"
   ]
  },
  {
   "cell_type": "code",
   "execution_count": 39,
   "metadata": {},
   "outputs": [
    {
     "name": "stdout",
     "output_type": "stream",
     "text": [
      "   two  four  one\n",
      "a    1  -4.0  1.0\n",
      "b    2   NaN  2.0\n",
      "c    3  -3.0  3.0\n",
      "4    4   NaN  NaN\n"
     ]
    }
   ],
   "source": [
    "df6['one']=pd.Series([1,2,3],index=['a','b','c'])\n",
    "print(df6)"
   ]
  },
  {
   "cell_type": "code",
   "execution_count": 40,
   "metadata": {},
   "outputs": [
    {
     "name": "stdout",
     "output_type": "stream",
     "text": [
      "   four  one\n",
      "a  -4.0  1.0\n",
      "b   NaN  2.0\n",
      "c  -3.0  3.0\n",
      "4   NaN  NaN\n"
     ]
    }
   ],
   "source": [
    "df6.pop('two')\n",
    "print(df6)"
   ]
  },
  {
   "cell_type": "code",
   "execution_count": null,
   "metadata": {},
   "outputs": [],
   "source": []
  }
 ],
 "metadata": {
  "kernelspec": {
   "display_name": "Python",
   "language": "python",
   "name": "conda-env-python-py"
  },
  "language_info": {
   "codemirror_mode": {
    "name": "ipython",
    "version": 3
   },
   "file_extension": ".py",
   "mimetype": "text/x-python",
   "name": "python",
   "nbconvert_exporter": "python",
   "pygments_lexer": "ipython3",
   "version": "3.6.7"
  }
 },
 "nbformat": 4,
 "nbformat_minor": 4
}
